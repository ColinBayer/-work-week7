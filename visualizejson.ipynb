{
 "cells": [
  {
   "cell_type": "code",
   "execution_count": 1,
   "metadata": {},
   "outputs": [],
   "source": [
    "import sys\n",
    "sys.path += ['../..']\n",
    "\n",
    "import os\n",
    "\n",
    "import tarfile\n",
    "import json\n",
    "\n",
    "import matplotlib.pyplot as plt\n",
    "\n",
    "from time import sleep\n",
    "\n",
    "from matplotlib.backends.backend_agg import FigureCanvasAgg as FigureCanvas\n",
    "from matplotlib.figure import Figure"
   ]
  },
  {
   "cell_type": "code",
   "execution_count": 2,
   "metadata": {},
   "outputs": [],
   "source": [
    "PATH_TO_CWL_DATA = '../week6/cwl-data/data/structured/'\n",
    "TAR_FILE_NAME = 'structured-2018-01-14-neworleans.tar.gz'\n",
    "\n",
    "EVENT = 'structured-2018-01-14-neworleans/'\n",
    "directory = 'structured-2018-01-14-neworleans'\n",
    "\n",
    "PATH_TO_WW2_MAPS = '../week6/cwl-data/maps/ww2/'\n",
    "\n",
    "MAP_IMAGES = {\n",
    "    'Aachen': 'aachen.png',\n",
    "    'Ardennes Forest': 'ardennes_forest.png',\n",
    "    'Flak Tower': 'flaktower.png',\n",
    "    'Gibraltar': 'gibraltar.png',\n",
    "    'London Docks': 'london_docks.png',\n",
    "    'Sainte Marie du Mont': 'sainte_marie_du_mont.png' ,\n",
    "    'USS Texas': 'uss_texas.png',\n",
    "    'Valkyrie': 'valkyrie.png'\n",
    "}"
   ]
  },
  {
   "cell_type": "code",
   "execution_count": 4,
   "metadata": {},
   "outputs": [
    {
     "data": {
      "image/png": "[encoded data removed]",
      "text/plain": [
       "<Figure size 432x288 with 1 Axes>"
      ]
     },
     "metadata": {
      "needs_background": "light"
     },
     "output_type": "display_data"
    }
   ],
   "source": [
    "for MATCH in os.listdir(directory):\n",
    "# extract match data from tarball\n",
    "    if not os.path.isfile('./{}{}'.format(EVENT, MATCH)):\n",
    "        tar_file_name = PATH_TO_CWL_DATA + TAR_FILE_NAME\n",
    "        tar = tarfile.open(tar_file_name)\n",
    "        tar.extract(EVENT + MATCH)\n",
    "\n",
    "    # load match data and plot match events\n",
    "    with open('./{}{}'.format(EVENT, MATCH), 'r') as match_file:\n",
    "        # get match data\n",
    "        match = json.load(match_file)\n",
    "\n",
    "        kill_pos, death_pos, spawn_pos = {'x': [], 'y': []}, {'x': [], 'y': []}, {'x': [], 'y': []}\n",
    "\n",
    "        # get pos data\n",
    "        events = match['events']\n",
    "        for evt in events:\n",
    "            if evt['type'] == 'spawn':\n",
    "                spawn_pos['x'].append( evt['data']['pos']['x'] )\n",
    "                spawn_pos['y'].append( evt['data']['pos']['y'] )\n",
    "            if evt['type'] == 'death':\n",
    "                kill_pos['x'].append( evt['data']['attacker']['pos']['x'] )\n",
    "                kill_pos['y'].append( evt['data']['attacker']['pos']['y'] )\n",
    "                death_pos['x'].append( evt['data']['pos']['x'] )\n",
    "                death_pos['y'].append( evt['data']['pos']['y'] )\n",
    "\n",
    "        # get map image\n",
    "        map_file_name = PATH_TO_WW2_MAPS + MAP_IMAGES[match['map']]\n",
    "        map_image = plt.imread(map_file_name)\n",
    "\n",
    "        # create figure\n",
    "        #fig, ax = plt.subplots(1,1)\n",
    "        fig = Figure()\n",
    "        FigureCanvas(fig)\n",
    "        ax = fig.subplots(1,1)\n",
    "        \n",
    "        fig.set_figheight(15)\n",
    "        fig.set_figwidth(15)\n",
    "        # plot map\n",
    "        ax.imshow(map_image)\n",
    "        ax.set_facecolor((210/255.0, 210/255.0, 210/255.0))\n",
    "        # plot spawns\n",
    "        ax.scatter(spawn_pos['x'], spawn_pos['y'], color='gray')\n",
    "        # plot death events\n",
    "        ax.scatter(kill_pos['x'], kill_pos['y'], color='cyan')\n",
    "        ax.scatter(death_pos['x'], death_pos['y'], color='red')\n",
    "        # plot kill vectors\n",
    "        for i in range( len(kill_pos['x']) ):\n",
    "            plt.plot([kill_pos['x'][i], death_pos['x'][i]], [kill_pos['y'][i], death_pos['y'][i]], color='white')\n",
    "        # set title\n",
    "        ax.set_title('{} ({})'.format(match['map'], match['mode']))\n",
    "        raw_file = MATCH.replace('.json', '')\n",
    "        fig.savefig( \"images/\" + raw_file + '.png')\n",
    "        #plt.close(fig)"
   ]
  }
 ],
 "metadata": {
  "kernelspec": {
   "display_name": "Python 3",
   "language": "python",
   "name": "python3"
  },
  "language_info": {
   "codemirror_mode": {
    "name": "ipython",
    "version": 3
   },
   "file_extension": ".py",
   "mimetype": "text/x-python",
   "name": "python",
   "nbconvert_exporter": "python",
   "pygments_lexer": "ipython3",
   "version": "3.7.2"
  }
 },
 "nbformat": 4,
 "nbformat_minor": 2
}
